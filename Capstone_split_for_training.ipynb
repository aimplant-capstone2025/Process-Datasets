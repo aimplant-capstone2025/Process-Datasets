{
  "nbformat": 4,
  "nbformat_minor": 0,
  "metadata": {
    "colab": {
      "provenance": []
    },
    "kernelspec": {
      "name": "python3",
      "display_name": "Python 3"
    },
    "language_info": {
      "name": "python"
    }
  },
  "cells": [
    {
      "cell_type": "code",
      "source": [
        "from google.colab import drive\n",
        "drive.mount('/content/drive')"
      ],
      "metadata": {
        "colab": {
          "base_uri": "https://localhost:8080/"
        },
        "id": "AE4160PrPmOk",
        "outputId": "32a27c13-fe92-4379-e0f0-155ebd0e0dff"
      },
      "execution_count": 1,
      "outputs": [
        {
          "output_type": "stream",
          "name": "stdout",
          "text": [
            "Mounted at /content/drive\n"
          ]
        }
      ]
    },
    {
      "cell_type": "code",
      "source": [
        "import os\n",
        "import shutil\n",
        "from PIL import Image\n",
        "import pandas as pd\n",
        "import numpy as np\n",
        "import matplotlib.pyplot as plt\n",
        "import seaborn as sns"
      ],
      "metadata": {
        "id": "2nmrQXl0Pmo4"
      },
      "execution_count": 2,
      "outputs": []
    },
    {
      "cell_type": "markdown",
      "source": [
        "# Split Datasets for yolo training"
      ],
      "metadata": {
        "id": "EWHpknHR2ME_"
      }
    },
    {
      "cell_type": "code",
      "source": [
        "datasets_training_path = '/content/drive/MyDrive/capstone_periodontal/Datasets_for_training'\n",
        "text_label_path = '/content/drive/MyDrive/capstone_periodontal/data_all_fin/data_labels/labels/train'\n",
        "pano_split_csv_path = '/content/drive/MyDrive/capstone_periodontal/Splited_HN_Datasets/pano_split.csv'\n",
        "all_split_csv_path = '/content/drive/MyDrive/capstone_periodontal/Splited_HN_Datasets/all_split.csv'"
      ],
      "metadata": {
        "id": "UdncpkkR2Rjn"
      },
      "execution_count": 14,
      "outputs": []
    },
    {
      "cell_type": "code",
      "source": [
        "pano_split_df = pd.read_csv(pano_split_csv_path)\n",
        "all_split_df = pd.read_csv(all_split_csv_path)"
      ],
      "metadata": {
        "id": "WtBl9g_L4Ycm"
      },
      "execution_count": 15,
      "outputs": []
    },
    {
      "cell_type": "code",
      "source": [
        "def split_dataset_by_patient_id(image_folder_path, label_folder_path, split_dataset_folder_path, split_df):\n",
        "    # Create folder structure\n",
        "    for split in ['train', 'val', 'test']:\n",
        "        for subfolder in ['image', 'label']:\n",
        "            os.makedirs(os.path.join(split_dataset_folder_path, split, subfolder), exist_ok=True)\n",
        "\n",
        "    # Iterate through images\n",
        "    for filename in os.listdir(image_folder_path):\n",
        "        if filename.lower().endswith(('.png', '.jpg', '.jpeg', '.bmp', '.tif', '.tiff')):\n",
        "\n",
        "            #get filename without ending\n",
        "            parts = filename.split('.')\n",
        "            if len(parts) < 2:\n",
        "                print(f\"Skipping invalid image name format: {filename}\")\n",
        "                continue\n",
        "            id = parts[0]\n",
        "            original_id = parts[0]\n",
        "\n",
        "            id_parts = id.split('_')\n",
        "            is_aug = False\n",
        "            if len(id_parts) >= 2:\n",
        "              is_aug = id_parts[-2] == 'aug'\n",
        "\n",
        "            if is_aug:\n",
        "                original_id = f\"{'_'.join(id_parts[:-2])}\"\n",
        "\n",
        "            # Determine the split from the dataframe\n",
        "            row = split_df[split_df['id'] == original_id]\n",
        "            if row.empty:\n",
        "                print(f\"No split info for id: {original_id}, skipping.\")\n",
        "                continue\n",
        "\n",
        "            split_value = row.iloc[0]['split']\n",
        "            if split_value not in ['train', 'val', 'test']:\n",
        "                print(f\"Invalid split value for id {original_id}: {split_value}, skipping.\")\n",
        "                continue\n",
        "\n",
        "            # Copy image\n",
        "            src_image_path = os.path.join(image_folder_path, filename)\n",
        "            dst_image_path = os.path.join(split_dataset_folder_path, split_value, 'image', filename)\n",
        "            shutil.copy2(src_image_path, dst_image_path)\n",
        "\n",
        "            # Copy corresponding label\n",
        "            label_filename = f\"{original_id}.txt\"  # Assuming label has the same name as the image\n",
        "            save_label_filename = f\"{id}.txt\"\n",
        "\n",
        "            src_label_path = os.path.join(label_folder_path, label_filename)\n",
        "            if os.path.exists(src_label_path):\n",
        "                dst_label_path = os.path.join(split_dataset_folder_path, split_value, 'label', save_label_filename)\n",
        "                shutil.copy2(src_label_path, dst_label_path)\n",
        "            else:\n",
        "                print(f\"Label not found for: {filename}, skipping label.\")\n"
      ],
      "metadata": {
        "id": "lH17mKwq93i5"
      },
      "execution_count": 29,
      "outputs": []
    },
    {
      "cell_type": "code",
      "source": [
        "def check_split_dataset(split_dataset_folder_path):\n",
        "    expected_splits = ['train', 'val', 'test']\n",
        "    expected_subfolders = ['image', 'label']\n",
        "\n",
        "    for split in expected_splits:\n",
        "        print(f\"\\nChecking split: {split}\")\n",
        "        for subfolder in expected_subfolders:\n",
        "            folder_path = os.path.join(split_dataset_folder_path, split, subfolder)\n",
        "            if os.path.exists(folder_path):\n",
        "                file_count = len([\n",
        "                    f for f in os.listdir(folder_path)\n",
        "                    if os.path.isfile(os.path.join(folder_path, f))\n",
        "                ])\n",
        "                print(f\"  {subfolder.capitalize()} folder exists. File count: {file_count}\")\n",
        "            else:\n",
        "                print(f\"  {subfolder.capitalize()} folder MISSING!\")"
      ],
      "metadata": {
        "id": "eDMrt7Q2X7ir"
      },
      "execution_count": 30,
      "outputs": []
    },
    {
      "cell_type": "markdown",
      "source": [
        "## Train Case 1: Pano"
      ],
      "metadata": {
        "id": "Tks8GDwD5H43"
      }
    },
    {
      "cell_type": "code",
      "source": [
        "pano_img_folder_path = '/content/drive/MyDrive/capstone_periodontal/data_all_fin/pano'\n",
        "split_case1_folder_path = '/content/drive/MyDrive/capstone_periodontal/Datasets_for_training/training_case_1'"
      ],
      "metadata": {
        "id": "k_jiblcrTCpF"
      },
      "execution_count": 20,
      "outputs": []
    },
    {
      "cell_type": "code",
      "source": [
        "len(os.listdir(pano_img_folder_path))"
      ],
      "metadata": {
        "colab": {
          "base_uri": "https://localhost:8080/"
        },
        "id": "gRogzvMecKRL",
        "outputId": "efcd868b-58b8-4694-d036-dbd431ae3d69"
      },
      "execution_count": 35,
      "outputs": [
        {
          "output_type": "execute_result",
          "data": {
            "text/plain": [
              "189"
            ]
          },
          "metadata": {},
          "execution_count": 35
        }
      ]
    },
    {
      "cell_type": "code",
      "source": [
        "split_dataset_by_patient_id(pano_img_folder_path, text_label_path, split_case1_folder_path, pano_split_df)"
      ],
      "metadata": {
        "id": "nSChd17D5KGi"
      },
      "execution_count": 21,
      "outputs": []
    },
    {
      "cell_type": "code",
      "source": [
        "check_split_dataset(split_case1_folder_path)"
      ],
      "metadata": {
        "colab": {
          "base_uri": "https://localhost:8080/"
        },
        "id": "NA217pvNX2Ga",
        "outputId": "cb4cd04b-c8a2-40c9-e1aa-867827563e97"
      },
      "execution_count": 23,
      "outputs": [
        {
          "output_type": "stream",
          "name": "stdout",
          "text": [
            "\n",
            "Checking split: train\n",
            "  Image folder exists. File count: 146\n",
            "  Label folder exists. File count: 146\n",
            "\n",
            "Checking split: val\n",
            "  Image folder exists. File count: 27\n",
            "  Label folder exists. File count: 27\n",
            "\n",
            "Checking split: test\n",
            "  Image folder exists. File count: 16\n",
            "  Label folder exists. File count: 16\n"
          ]
        }
      ]
    },
    {
      "cell_type": "markdown",
      "source": [
        "## Train Case 2: Augmented Pano"
      ],
      "metadata": {
        "id": "-dIVYFeK5MD0"
      }
    },
    {
      "cell_type": "code",
      "source": [
        "augmented_pano_img_folder_path = '/content/drive/MyDrive/capstone_periodontal/augmented_datasets/pano'\n",
        "split_case2_folder_path = '/content/drive/MyDrive/capstone_periodontal/Datasets_for_training/training_case_2'"
      ],
      "metadata": {
        "id": "60a2An2o5NfH"
      },
      "execution_count": 42,
      "outputs": []
    },
    {
      "cell_type": "code",
      "source": [
        "len(os.listdir(augmented_pano_img_folder_path))"
      ],
      "metadata": {
        "colab": {
          "base_uri": "https://localhost:8080/"
        },
        "id": "FWF28iD7b_SD",
        "outputId": "2d71cadd-1d51-4852-b3cb-2bd80676e24c"
      },
      "execution_count": 43,
      "outputs": [
        {
          "output_type": "execute_result",
          "data": {
            "text/plain": [
              "945"
            ]
          },
          "metadata": {},
          "execution_count": 43
        }
      ]
    },
    {
      "cell_type": "code",
      "source": [
        "split_dataset_by_patient_id(augmented_pano_img_folder_path, text_label_path, split_case2_folder_path, pano_split_df)"
      ],
      "metadata": {
        "id": "J3-HDkWHY4ci"
      },
      "execution_count": 44,
      "outputs": []
    },
    {
      "cell_type": "code",
      "source": [
        "check_split_dataset(split_case2_folder_path)"
      ],
      "metadata": {
        "colab": {
          "base_uri": "https://localhost:8080/"
        },
        "id": "qiPHJ6_-UBDZ",
        "outputId": "db62b34e-caec-4dd5-e0cc-7724199341cb"
      },
      "execution_count": 45,
      "outputs": [
        {
          "output_type": "stream",
          "name": "stdout",
          "text": [
            "\n",
            "Checking split: train\n",
            "  Image folder exists. File count: 730\n",
            "  Label folder exists. File count: 730\n",
            "\n",
            "Checking split: val\n",
            "  Image folder exists. File count: 135\n",
            "  Label folder exists. File count: 135\n",
            "\n",
            "Checking split: test\n",
            "  Image folder exists. File count: 80\n",
            "  Label folder exists. File count: 80\n"
          ]
        }
      ]
    },
    {
      "cell_type": "markdown",
      "source": [
        "## Train Case 3: Augmented Pano + Peri"
      ],
      "metadata": {
        "id": "7eY710zZ5N5s"
      }
    },
    {
      "cell_type": "code",
      "source": [
        "augmented_pano_img_folder_path = '/content/drive/MyDrive/capstone_periodontal/augmented_datasets/pano'\n",
        "augmented_peri_img_folder_path= '/content/drive/MyDrive/capstone_periodontal/augmented_datasets/peri'\n",
        "split_case3_folder_path = '/content/drive/MyDrive/capstone_periodontal/Datasets_for_training/training_case_3'"
      ],
      "metadata": {
        "id": "wc3445DY5PNG"
      },
      "execution_count": 46,
      "outputs": []
    },
    {
      "cell_type": "code",
      "source": [
        "len(os.listdir(augmented_pano_img_folder_path)) + len(os.listdir(augmented_peri_img_folder_path))"
      ],
      "metadata": {
        "colab": {
          "base_uri": "https://localhost:8080/"
        },
        "id": "IJbWm1kNcbHW",
        "outputId": "0ce867f2-dd44-406b-c5e3-1f5a546b5b90"
      },
      "execution_count": 47,
      "outputs": [
        {
          "output_type": "execute_result",
          "data": {
            "text/plain": [
              "1675"
            ]
          },
          "metadata": {},
          "execution_count": 47
        }
      ]
    },
    {
      "cell_type": "code",
      "source": [
        "split_dataset_by_patient_id(augmented_pano_img_folder_path, text_label_path, split_case3_folder_path, all_split_df)"
      ],
      "metadata": {
        "id": "-ISy_16Dh4h6"
      },
      "execution_count": 48,
      "outputs": []
    },
    {
      "cell_type": "code",
      "source": [
        "split_dataset_by_patient_id(augmented_peri_img_folder_path, text_label_path, split_case3_folder_path, all_split_df)"
      ],
      "metadata": {
        "id": "u9x87gAziT8X"
      },
      "execution_count": 49,
      "outputs": []
    },
    {
      "cell_type": "code",
      "source": [
        "check_split_dataset(split_case3_folder_path)"
      ],
      "metadata": {
        "colab": {
          "base_uri": "https://localhost:8080/"
        },
        "id": "iqaIIf1AYuWI",
        "outputId": "d3e15b81-5783-42da-f460-77e27c321efe"
      },
      "execution_count": 50,
      "outputs": [
        {
          "output_type": "stream",
          "name": "stdout",
          "text": [
            "\n",
            "Checking split: train\n",
            "  Image folder exists. File count: 1150\n",
            "  Label folder exists. File count: 1150\n",
            "\n",
            "Checking split: val\n",
            "  Image folder exists. File count: 260\n",
            "  Label folder exists. File count: 260\n",
            "\n",
            "Checking split: test\n",
            "  Image folder exists. File count: 265\n",
            "  Label folder exists. File count: 265\n"
          ]
        }
      ]
    },
    {
      "cell_type": "code",
      "source": [],
      "metadata": {
        "id": "DpGkpAWGjjzU"
      },
      "execution_count": null,
      "outputs": []
    }
  ]
}