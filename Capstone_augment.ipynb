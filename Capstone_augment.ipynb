{
  "nbformat": 4,
  "nbformat_minor": 0,
  "metadata": {
    "colab": {
      "provenance": [],
      "gpuType": "T4"
    },
    "kernelspec": {
      "name": "python3",
      "display_name": "Python 3"
    },
    "language_info": {
      "name": "python"
    },
    "accelerator": "GPU"
  },
  "cells": [
    {
      "cell_type": "code",
      "execution_count": 1,
      "metadata": {
        "colab": {
          "base_uri": "https://localhost:8080/"
        },
        "id": "_SVzXSyQUL8n",
        "outputId": "7d31e90c-2b5d-44a4-b28e-3f1b1a5e6cbb"
      },
      "outputs": [
        {
          "output_type": "stream",
          "name": "stdout",
          "text": [
            "Mounted at /content/drive\n"
          ]
        }
      ],
      "source": [
        "from google.colab import drive\n",
        "drive.mount('/content/drive')"
      ]
    },
    {
      "cell_type": "code",
      "source": [
        "import os\n",
        "from PIL import Image\n",
        "import pandas as pd\n",
        "import numpy as np\n",
        "import matplotlib.pyplot as plt\n",
        "import seaborn as sns\n",
        "\n",
        "import cv2\n",
        "import albumentations as A\n",
        "from albumentations.pytorch import ToTensorV2\n",
        "from tqdm import tqdm"
      ],
      "metadata": {
        "id": "vOhW3AojXRy9"
      },
      "execution_count": 1,
      "outputs": []
    },
    {
      "cell_type": "code",
      "source": [
        "pano_path = '/content/drive/MyDrive/capstone_periodontal/data_all_fin/pano'\n",
        "peri_path = '/content/drive/MyDrive/capstone_periodontal/data_all_fin/peri'\n",
        "output_path = '/content/drive/MyDrive/capstone_periodontal/augmented_datasets'"
      ],
      "metadata": {
        "id": "6tPX00KpUk0m"
      },
      "execution_count": 2,
      "outputs": []
    },
    {
      "cell_type": "code",
      "source": [
        "pano_count = sum(1 for file in os.listdir(pano_path) if file.endswith(\".jpg\"))\n",
        "peri_count = sum(1 for file in os.listdir(peri_path) if file.endswith(\".jpg\"))\n",
        "\n",
        "print(pano_count)\n",
        "print(peri_count)"
      ],
      "metadata": {
        "colab": {
          "base_uri": "https://localhost:8080/"
        },
        "id": "03ybHwb8WUTz",
        "outputId": "f3e64ca7-8b3c-423c-842a-a41c9ca71b2e"
      },
      "execution_count": 3,
      "outputs": [
        {
          "output_type": "stream",
          "name": "stdout",
          "text": [
            "189\n",
            "146\n"
          ]
        }
      ]
    },
    {
      "cell_type": "markdown",
      "source": [
        "# Augment\n",
        "- blur + noise\n",
        "- random contrast CLAHE\n",
        "- brightness"
      ],
      "metadata": {
        "id": "Sv6eZwMqX-XS"
      }
    },
    {
      "cell_type": "code",
      "source": [
        "transform = A.Compose([\n",
        "    #contrast and brightness\n",
        "    A.RingingOvershoot(p=0.5), #mimic kodak high contrast\n",
        "    A.RandomBrightnessContrast(brightness_limit=0.2, contrast_limit=0.2, p=0.7),\n",
        "    A.CLAHE(tile_grid_size=(4, 4), p=0.3),\n",
        "    #Blur\n",
        "    A.AdvancedBlur(noise_limit=(0.9,2.5), p=0.5),\n",
        "    A.MedianBlur(blur_limit=(3,5), p=0.5),\n",
        "    #noise\n",
        "    A.AdditiveNoise(p=0.7),\n",
        "    #gray scale\n",
        "    A.ToGray(p=1.0)\n",
        "])"
      ],
      "metadata": {
        "id": "LIO4pYrSXQXg"
      },
      "execution_count": 8,
      "outputs": []
    },
    {
      "cell_type": "code",
      "source": [
        "def augment_and_save(image_path, save_dir, base_name):\n",
        "    image = cv2.imread(image_path)\n",
        "    if image is None:\n",
        "        print(f\"Failed to read {image_path}\")\n",
        "        return\n",
        "    save_path = os.path.join(save_dir, f\"{base_name}.png\")\n",
        "    cv2.imwrite(save_path, image)\n",
        "    for i in range(4):\n",
        "        augmented = transform(image=image)['image']\n",
        "        save_path = os.path.join(save_dir, f\"{base_name}_aug_{i}.png\")\n",
        "        cv2.imwrite(save_path, augmented)"
      ],
      "metadata": {
        "id": "xrFCGD3tj2GZ"
      },
      "execution_count": 9,
      "outputs": []
    },
    {
      "cell_type": "code",
      "source": [
        "def process_folder(input_path, output_path):\n",
        "    for filename in tqdm(os.listdir(input_path)):\n",
        "        if filename.lower().endswith(('.png', '.jpg', '.jpeg')):\n",
        "            full_path = os.path.join(input_path, filename)\n",
        "            base_name = os.path.splitext(filename)[0]\n",
        "            augment_and_save(full_path, output_path, base_name)"
      ],
      "metadata": {
        "id": "yAiDY6gklM0Y"
      },
      "execution_count": 10,
      "outputs": []
    },
    {
      "cell_type": "code",
      "source": [
        "process_folder(pano_path, os.path.join(output_path, 'pano'))\n",
        "process_folder(peri_path, os.path.join(output_path, 'peri'))"
      ],
      "metadata": {
        "colab": {
          "base_uri": "https://localhost:8080/"
        },
        "id": "SqbagE2xjuzJ",
        "outputId": "d992327a-49be-4600-d5ef-eb2d94466480"
      },
      "execution_count": 11,
      "outputs": [
        {
          "output_type": "stream",
          "name": "stderr",
          "text": [
            "100%|██████████| 189/189 [05:03<00:00,  1.61s/it]\n",
            "100%|██████████| 146/146 [00:54<00:00,  2.68it/s]\n"
          ]
        }
      ]
    }
  ]
}