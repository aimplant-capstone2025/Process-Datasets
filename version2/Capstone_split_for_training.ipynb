{
  "nbformat": 4,
  "nbformat_minor": 0,
  "metadata": {
    "colab": {
      "provenance": []
    },
    "kernelspec": {
      "name": "python3",
      "display_name": "Python 3"
    },
    "language_info": {
      "name": "python"
    }
  },
  "cells": [
    {
      "cell_type": "code",
      "source": [
        "from google.colab import drive\n",
        "drive.mount('/content/drive')"
      ],
      "metadata": {
        "colab": {
          "base_uri": "https://localhost:8080/"
        },
        "id": "AE4160PrPmOk",
        "outputId": "9d0fdb49-65e7-453e-912d-7adc6d7d28c7"
      },
      "execution_count": 11,
      "outputs": [
        {
          "output_type": "stream",
          "name": "stdout",
          "text": [
            "Drive already mounted at /content/drive; to attempt to forcibly remount, call drive.mount(\"/content/drive\", force_remount=True).\n"
          ]
        }
      ]
    },
    {
      "cell_type": "code",
      "source": [
        "import os\n",
        "import shutil\n",
        "from PIL import Image\n",
        "import pandas as pd\n",
        "import numpy as np\n",
        "import matplotlib.pyplot as plt\n",
        "import seaborn as sns"
      ],
      "metadata": {
        "id": "2nmrQXl0Pmo4"
      },
      "execution_count": null,
      "outputs": []
    },
    {
      "cell_type": "markdown",
      "source": [
        "# Split Datasets for yolo training"
      ],
      "metadata": {
        "id": "EWHpknHR2ME_"
      }
    },
    {
      "cell_type": "code",
      "source": [
        "datasets_training_path = '/content/drive/MyDrive/capstone_periodontal/Datasets_for_training/checked_datasets_corrected_test'\n",
        "text_label_path = '/content/drive/MyDrive/capstone_periodontal/data_all_fin/data_labels/checked_labels'\n",
        "pano_split_csv_path = '/content/drive/MyDrive/capstone_periodontal/Splited_HN_Datasets/check_datasets_corrected_test/pano_split.csv'\n",
        "all_split_csv_path = '/content/drive/MyDrive/capstone_periodontal/Splited_HN_Datasets/check_datasets_corrected_test/all_split.csv'"
      ],
      "metadata": {
        "id": "UdncpkkR2Rjn"
      },
      "execution_count": 12,
      "outputs": []
    },
    {
      "cell_type": "code",
      "source": [
        "pano_split_df = pd.read_csv(pano_split_csv_path)\n",
        "all_split_df = pd.read_csv(all_split_csv_path)"
      ],
      "metadata": {
        "id": "WtBl9g_L4Ycm"
      },
      "execution_count": 13,
      "outputs": []
    },
    {
      "cell_type": "code",
      "source": [
        "def split_dataset_by_patient_id(image_folder_path, label_folder_path, split_dataset_folder_path, split_df):\n",
        "    # Create folder structure\n",
        "    for split in ['train', 'val', 'test']:\n",
        "        for subfolder in ['image', 'label']:\n",
        "            os.makedirs(os.path.join(split_dataset_folder_path, split, subfolder), exist_ok=True)\n",
        "\n",
        "    # Iterate through images\n",
        "    for filename in os.listdir(image_folder_path):\n",
        "        if filename.lower().endswith(('.png', '.jpg', '.jpeg', '.bmp', '.tif', '.tiff')):\n",
        "\n",
        "            #get filename without ending\n",
        "            parts = filename.split('.')\n",
        "            if len(parts) < 2:\n",
        "                print(f\"Skipping invalid image name format: {filename}\")\n",
        "                continue\n",
        "            id = parts[0]\n",
        "            original_id = parts[0]\n",
        "\n",
        "            id_parts = id.split('_')\n",
        "            is_aug = False\n",
        "            if len(id_parts) >= 2:\n",
        "              is_aug = id_parts[-2] == 'aug'\n",
        "\n",
        "            if is_aug:\n",
        "                original_id = f\"{'_'.join(id_parts[:-2])}\"\n",
        "\n",
        "            # Determine the split from the dataframe\n",
        "            row = split_df[split_df['id'] == original_id]\n",
        "            if row.empty:\n",
        "                print(f\"No split info for id: {original_id}, skipping.\")\n",
        "                continue\n",
        "\n",
        "            split_value = row.iloc[0]['split']\n",
        "            if split_value not in ['train', 'val', 'test']:\n",
        "                print(f\"Invalid split value for id {original_id}: {split_value}, skipping.\")\n",
        "                continue\n",
        "\n",
        "            # Copy image\n",
        "            src_image_path = os.path.join(image_folder_path, filename)\n",
        "            dst_image_path = os.path.join(split_dataset_folder_path, split_value, 'image', filename)\n",
        "            shutil.copy2(src_image_path, dst_image_path)\n",
        "\n",
        "            # Copy corresponding label\n",
        "            label_filename = f\"{original_id}.txt\"  # Assuming label has the same name as the image\n",
        "            save_label_filename = f\"{id}.txt\"\n",
        "\n",
        "            src_label_path = os.path.join(label_folder_path, label_filename)\n",
        "            if os.path.exists(src_label_path):\n",
        "                dst_label_path = os.path.join(split_dataset_folder_path, split_value, 'label', save_label_filename)\n",
        "                shutil.copy2(src_label_path, dst_label_path)\n",
        "            else:\n",
        "                print(f\"Label not found for: {filename}, skipping label.\")\n"
      ],
      "metadata": {
        "id": "lH17mKwq93i5"
      },
      "execution_count": 14,
      "outputs": []
    },
    {
      "cell_type": "code",
      "source": [
        "def check_split_dataset(split_dataset_folder_path):\n",
        "    expected_splits = ['train', 'val', 'test']\n",
        "    expected_subfolders = ['image', 'label']\n",
        "\n",
        "    for split in expected_splits:\n",
        "        print(f\"\\nChecking split: {split}\")\n",
        "        for subfolder in expected_subfolders:\n",
        "            folder_path = os.path.join(split_dataset_folder_path, split, subfolder)\n",
        "            if os.path.exists(folder_path):\n",
        "                file_count = len([\n",
        "                    f for f in os.listdir(folder_path)\n",
        "                    if os.path.isfile(os.path.join(folder_path, f))\n",
        "                ])\n",
        "                print(f\"  {subfolder.capitalize()} folder exists. File count: {file_count}\")\n",
        "            else:\n",
        "                print(f\"  {subfolder.capitalize()} folder MISSING!\")"
      ],
      "metadata": {
        "id": "eDMrt7Q2X7ir"
      },
      "execution_count": 15,
      "outputs": []
    },
    {
      "cell_type": "markdown",
      "source": [
        "## Train Case 1: Pano"
      ],
      "metadata": {
        "id": "Tks8GDwD5H43"
      }
    },
    {
      "cell_type": "code",
      "source": [
        "pano_img_folder_path = '/content/drive/MyDrive/capstone_periodontal/data_all_fin/pano'\n",
        "split_case1_folder_path = '/content/drive/MyDrive/capstone_periodontal/Datasets_for_training/checked_datasets_corrected_test/training_case_1'"
      ],
      "metadata": {
        "id": "k_jiblcrTCpF"
      },
      "execution_count": 18,
      "outputs": []
    },
    {
      "cell_type": "code",
      "source": [
        "len(os.listdir(pano_img_folder_path))"
      ],
      "metadata": {
        "colab": {
          "base_uri": "https://localhost:8080/"
        },
        "id": "gRogzvMecKRL",
        "outputId": "c163c216-d2c2-4737-8a25-2442056e04de"
      },
      "execution_count": 19,
      "outputs": [
        {
          "output_type": "execute_result",
          "data": {
            "text/plain": [
              "189"
            ]
          },
          "metadata": {},
          "execution_count": 19
        }
      ]
    },
    {
      "cell_type": "code",
      "source": [
        "split_dataset_by_patient_id(pano_img_folder_path, text_label_path, split_case1_folder_path, pano_split_df)"
      ],
      "metadata": {
        "id": "nSChd17D5KGi"
      },
      "execution_count": 20,
      "outputs": []
    },
    {
      "cell_type": "code",
      "source": [
        "check_split_dataset(split_case1_folder_path)"
      ],
      "metadata": {
        "colab": {
          "base_uri": "https://localhost:8080/"
        },
        "id": "NA217pvNX2Ga",
        "outputId": "b7807228-6c0c-47d7-cece-c509043c7100"
      },
      "execution_count": 21,
      "outputs": [
        {
          "output_type": "stream",
          "name": "stdout",
          "text": [
            "\n",
            "Checking split: train\n",
            "  Image folder exists. File count: 157\n",
            "  Label folder exists. File count: 157\n",
            "\n",
            "Checking split: val\n",
            "  Image folder exists. File count: 14\n",
            "  Label folder exists. File count: 14\n",
            "\n",
            "Checking split: test\n",
            "  Image folder exists. File count: 18\n",
            "  Label folder exists. File count: 18\n"
          ]
        }
      ]
    },
    {
      "cell_type": "markdown",
      "source": [
        "## Train Case 2: Augmented Pano"
      ],
      "metadata": {
        "id": "-dIVYFeK5MD0"
      }
    },
    {
      "cell_type": "code",
      "source": [
        "augmented_pano_img_folder_path = '/content/drive/MyDrive/capstone_periodontal/augmented_datasets/pano'\n",
        "split_case2_folder_path = '/content/drive/MyDrive/capstone_periodontal/Datasets_for_training/checked_datasets_corrected_test/training_case_2'"
      ],
      "metadata": {
        "id": "60a2An2o5NfH"
      },
      "execution_count": 22,
      "outputs": []
    },
    {
      "cell_type": "code",
      "source": [
        "len(os.listdir(augmented_pano_img_folder_path))"
      ],
      "metadata": {
        "colab": {
          "base_uri": "https://localhost:8080/"
        },
        "id": "FWF28iD7b_SD",
        "outputId": "d31ee467-7e42-4f00-e3ef-ac2de208988b"
      },
      "execution_count": 23,
      "outputs": [
        {
          "output_type": "execute_result",
          "data": {
            "text/plain": [
              "945"
            ]
          },
          "metadata": {},
          "execution_count": 23
        }
      ]
    },
    {
      "cell_type": "code",
      "source": [
        "split_dataset_by_patient_id(augmented_pano_img_folder_path, text_label_path, split_case2_folder_path, pano_split_df)"
      ],
      "metadata": {
        "id": "J3-HDkWHY4ci"
      },
      "execution_count": 24,
      "outputs": []
    },
    {
      "cell_type": "code",
      "source": [
        "check_split_dataset(split_case2_folder_path)"
      ],
      "metadata": {
        "colab": {
          "base_uri": "https://localhost:8080/"
        },
        "id": "qiPHJ6_-UBDZ",
        "outputId": "824a3fd5-7064-4bb2-da76-0a09ce49a960"
      },
      "execution_count": 25,
      "outputs": [
        {
          "output_type": "stream",
          "name": "stdout",
          "text": [
            "\n",
            "Checking split: train\n",
            "  Image folder exists. File count: 785\n",
            "  Label folder exists. File count: 785\n",
            "\n",
            "Checking split: val\n",
            "  Image folder exists. File count: 70\n",
            "  Label folder exists. File count: 70\n",
            "\n",
            "Checking split: test\n",
            "  Image folder exists. File count: 90\n",
            "  Label folder exists. File count: 90\n"
          ]
        }
      ]
    },
    {
      "cell_type": "markdown",
      "source": [
        "## Train Case 3: Augmented Pano + Peri"
      ],
      "metadata": {
        "id": "7eY710zZ5N5s"
      }
    },
    {
      "cell_type": "code",
      "source": [
        "augmented_pano_img_folder_path = '/content/drive/MyDrive/capstone_periodontal/augmented_datasets/pano'\n",
        "augmented_peri_img_folder_path= '/content/drive/MyDrive/capstone_periodontal/augmented_datasets/peri'\n",
        "split_case3_folder_path = '/content/drive/MyDrive/capstone_periodontal/Datasets_for_training/checked_datasets_corrected_test/training_case_3'"
      ],
      "metadata": {
        "id": "wc3445DY5PNG"
      },
      "execution_count": 26,
      "outputs": []
    },
    {
      "cell_type": "code",
      "source": [
        "len(os.listdir(augmented_pano_img_folder_path)) + len(os.listdir(augmented_peri_img_folder_path))"
      ],
      "metadata": {
        "colab": {
          "base_uri": "https://localhost:8080/"
        },
        "id": "IJbWm1kNcbHW",
        "outputId": "a0c00ab1-6c16-4d46-8bb6-3af7b5a3e737"
      },
      "execution_count": 27,
      "outputs": [
        {
          "output_type": "execute_result",
          "data": {
            "text/plain": [
              "1675"
            ]
          },
          "metadata": {},
          "execution_count": 27
        }
      ]
    },
    {
      "cell_type": "code",
      "source": [
        "split_dataset_by_patient_id(augmented_pano_img_folder_path, text_label_path, split_case3_folder_path, all_split_df)"
      ],
      "metadata": {
        "id": "-ISy_16Dh4h6"
      },
      "execution_count": 29,
      "outputs": []
    },
    {
      "cell_type": "code",
      "source": [
        "split_dataset_by_patient_id(augmented_peri_img_folder_path, text_label_path, split_case3_folder_path, all_split_df)"
      ],
      "metadata": {
        "id": "u9x87gAziT8X"
      },
      "execution_count": 30,
      "outputs": []
    },
    {
      "cell_type": "code",
      "source": [
        "check_split_dataset(split_case3_folder_path)"
      ],
      "metadata": {
        "colab": {
          "base_uri": "https://localhost:8080/"
        },
        "id": "iqaIIf1AYuWI",
        "outputId": "cd3527cd-228b-47b8-f38c-1febac1b8d61"
      },
      "execution_count": 31,
      "outputs": [
        {
          "output_type": "stream",
          "name": "stdout",
          "text": [
            "\n",
            "Checking split: train\n",
            "  Image folder exists. File count: 890\n",
            "  Label folder exists. File count: 890\n",
            "\n",
            "Checking split: val\n",
            "  Image folder exists. File count: 465\n",
            "  Label folder exists. File count: 465\n",
            "\n",
            "Checking split: test\n",
            "  Image folder exists. File count: 320\n",
            "  Label folder exists. File count: 320\n"
          ]
        }
      ]
    },
    {
      "cell_type": "code",
      "source": [],
      "metadata": {
        "id": "DpGkpAWGjjzU"
      },
      "execution_count": null,
      "outputs": []
    }
  ]
}